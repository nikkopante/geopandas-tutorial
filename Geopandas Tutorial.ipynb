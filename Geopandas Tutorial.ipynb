{
 "cells": [
  {
   "cell_type": "markdown",
   "metadata": {},
   "source": [
    "# Geopandas Tutorial"
   ]
  },
  {
   "cell_type": "markdown",
   "metadata": {},
   "source": [
    "### I. Installation"
   ]
  },
  {
   "cell_type": "markdown",
   "metadata": {},
   "source": [
    "Install a geopandas enviroment along with its packages:"
   ]
  },
  {
   "cell_type": "markdown",
   "metadata": {},
   "source": [
    "```console\n",
    "C:/User/geopandas> conda create --name geo_env python=3.7 notebook pandas numpy geopandas matplotlib descartes\n",
    "\n",
    "C:/User/geopandas> conda activate geo_env\n",
    "```"
   ]
  },
  {
   "cell_type": "markdown",
   "metadata": {},
   "source": [
    "When you're done with the tutorial. You can go back to the base environment by:\n"
   ]
  },
  {
   "cell_type": "markdown",
   "metadata": {},
   "source": [
    "```console\n",
    "C:/User/geopandas> conda deactivate\n",
    "```"
   ]
  },
  {
   "cell_type": "markdown",
   "metadata": {},
   "source": [
    "### II. Data Structures"
   ]
  },
  {
   "cell_type": "markdown",
   "metadata": {},
   "source": [
    "Before proceeding to the rest of the lecture, you must import needed  packages. Run the cell below."
   ]
  },
  {
   "cell_type": "code",
   "execution_count": null,
   "metadata": {},
   "outputs": [],
   "source": [
    "import pandas as pd\n",
    "import geopandas\n",
    "import numpy\n",
    "import matplotlib.pyplot as plt"
   ]
  },
  {
   "cell_type": "markdown",
   "metadata": {},
   "source": [
    "A Geoseries is a vector where each entry is a object (shape) corresponding to an observation. Geopandas has three basic classes of geometric objects:\n",
    "\n",
    "1. Points/ Multi-points\n",
    "2. Lines / Multi-lines\n",
    "3. Polygons / Multipolygons\n",
    "\n",
    "Below, we read a native file included in the geopandas library to show example of a Geoseries. Run the cell below to return a geoseries."
   ]
  },
  {
   "cell_type": "code",
   "execution_count": null,
   "metadata": {
    "scrolled": true
   },
   "outputs": [],
   "source": [
    "world = geopandas.read_file(\n",
    "    geopandas.datasets.get_path('naturalearth_lowres'))\n",
    "world['geometry']"
   ]
  },
  {
   "cell_type": "markdown",
   "metadata": {},
   "source": [
    "**Question 1:**\n",
    "    \n",
    "Return `world` GEOSERIES index 0-4 using `head()` method taught from lecture/notes from Pandas. You can use the empty cell below to enter the code."
   ]
  },
  {
   "cell_type": "code",
   "execution_count": null,
   "metadata": {},
   "outputs": [],
   "source": []
  },
  {
   "cell_type": "markdown",
   "metadata": {},
   "source": [
    "A Geodataframe is a pandas' dataframe that contains a Geoseries. It is its most important property. Below, is a Geodataframe, which is like an attribute table from a GIS software, with difference is that the shape is also part of the table as vector of objects. Run the cell below."
   ]
  },
  {
   "cell_type": "code",
   "execution_count": null,
   "metadata": {},
   "outputs": [],
   "source": [
    "world.head()"
   ]
  },
  {
   "cell_type": "markdown",
   "metadata": {},
   "source": [
    "Above is a geodataframe with column `geometry` as the active geoseries. We can run the cell below to plot the geodataframe."
   ]
  },
  {
   "cell_type": "code",
   "execution_count": null,
   "metadata": {},
   "outputs": [],
   "source": [
    "world.plot()"
   ]
  },
  {
   "cell_type": "markdown",
   "metadata": {},
   "source": [
    "A geodataframe may contain multiple geoseries but sets only one active geoseries. We can create centroids and make it the active geoseries for our `world` dataframe. The active geoseries will be plotted."
   ]
  },
  {
   "cell_type": "code",
   "execution_count": null,
   "metadata": {},
   "outputs": [],
   "source": [
    "world['centroids'] = world.centroid\n",
    "world = world.set_geometry('centroids')\n",
    "world.plot()"
   ]
  },
  {
   "cell_type": "markdown",
   "metadata": {},
   "source": [
    "**Question 2:**\n",
    "\n",
    "Use the empty cell below to set back the active geoseries to `geometry`."
   ]
  },
  {
   "cell_type": "code",
   "execution_count": null,
   "metadata": {},
   "outputs": [],
   "source": []
  },
  {
   "cell_type": "markdown",
   "metadata": {},
   "source": [
    "You can return more attributes and methods such as `Geodataframe.centroid` from the above example. Here are some of the most important:\n",
    "\n",
    "Attributes\n",
    "- `area` : shape of area (using the units of projection)\n",
    "- `bounds` : tuple of max and min coordinates for each shape\n",
    "- `total_bounds` : tuple of max and min coordinates for the whole vector\n",
    "- `geom_type` : type of geometry\n",
    "- `is_valid` : test if coordinates make a shape that is reasonable geometric shape\n",
    "- `crs`: return the Geographic coordinate system used by the Geodataframe\n",
    "\n",
    "Methods\n",
    "- `distance` : returns Series with minimum distance from each entry to the other\n",
    "- `centroid` : returns GeoSeries of centroids\n",
    "- `representative_point()` : returns GeoSeries of points that are guaranteed to be within each geometry. It does NOT return centroids.\n",
    "- `to_crs()` : change coordinate reference system. See projections\n",
    "- `plot()` : plot GeoSeries."
   ]
  },
  {
   "cell_type": "markdown",
   "metadata": {},
   "source": [
    "**Question 3:**\n",
    "\n",
    "Use the cell below to return the coordinate system of `world` geodataframe."
   ]
  },
  {
   "cell_type": "code",
   "execution_count": null,
   "metadata": {},
   "outputs": [],
   "source": []
  },
  {
   "cell_type": "markdown",
   "metadata": {},
   "source": [
    "We can use the attribute `area` to compute for the area of each polygon in our active geoseries. Note that the computed area is based on the CRS used."
   ]
  },
  {
   "cell_type": "code",
   "execution_count": null,
   "metadata": {},
   "outputs": [],
   "source": [
    "world = world.set_geometry('geometry')\n",
    "world['area'] = world.area\n",
    "world.head()"
   ]
  },
  {
   "cell_type": "markdown",
   "metadata": {},
   "source": [
    "**Question 4:**\n",
    "\n",
    "Use all resources (internet) and the cell below to return the row which has the largest area of `world` without changing its CRS."
   ]
  },
  {
   "cell_type": "code",
   "execution_count": null,
   "metadata": {},
   "outputs": [],
   "source": []
  },
  {
   "cell_type": "markdown",
   "metadata": {},
   "source": [
    "### III. Reading and Writing Files"
   ]
  },
  {
   "cell_type": "markdown",
   "metadata": {},
   "source": [
    "Most shapefiles are compressed into ZIP file. We can directly read a shapefile from it using the example code below."
   ]
  },
  {
   "cell_type": "code",
   "execution_count": null,
   "metadata": {},
   "outputs": [],
   "source": [
    "zipfile = \"zip://data/MuniCities.zip\"\n",
    "munies = geopandas.read_file(zipfile)\n",
    "munies.head(3)"
   ]
  },
  {
   "cell_type": "markdown",
   "metadata": {},
   "source": [
    "If we have prior knowledge of the data, we can ignore other fields using the example below. This method can help clean the data."
   ]
  },
  {
   "cell_type": "code",
   "execution_count": null,
   "metadata": {},
   "outputs": [],
   "source": [
    "munies = geopandas.read_file(zipfile, ignore_fields=[\"ID_0\",\n",
    "                                                     \"ISO\",\n",
    "                                                     \"ID_1\",\n",
    "                                                     \"NAME_0\",\n",
    "                                                     \"VARNAME_2\",\n",
    "                                                     \"TYPE_2\",\n",
    "                                                     \"NAME_1\",\n",
    "                                                     \"ID_2\",\n",
    "                                                     \"NL_NAME_2\",])\n",
    "munies.head(3)"
   ]
  },
  {
   "cell_type": "markdown",
   "metadata": {},
   "source": [
    "We can further filter the data using Pandas tricks. The example below limits our geodataframe to Metro Manila areas only."
   ]
  },
  {
   "cell_type": "code",
   "execution_count": null,
   "metadata": {},
   "outputs": [],
   "source": [
    "mmcities = munies[munies['PROVINCE'] == 'Metropolitan Manila']\n",
    "mmcities.head()"
   ]
  },
  {
   "cell_type": "markdown",
   "metadata": {},
   "source": [
    "We can save or write `mmcities` to a different shapefile. Run the example below to save mmcities to `data/mmcities/mmcities.shp`. Afterwards, check the directory to see the shapefile. You can now directly load it in GIS software such as QGIS."
   ]
  },
  {
   "cell_type": "code",
   "execution_count": null,
   "metadata": {},
   "outputs": [],
   "source": [
    "mmcities.to_file('data/mmcities/mmcities.shp')"
   ]
  },
  {
   "cell_type": "markdown",
   "metadata": {},
   "source": [
    "Below is a number of Covid-19 cases in Metro Manila cities. The <a href='https://covid19ph.com/regions/ncr'>data</a> is provided and was last updated in Jul 16, 2020. We can load it using pandas."
   ]
  },
  {
   "cell_type": "code",
   "execution_count": null,
   "metadata": {},
   "outputs": [],
   "source": [
    "mmcovid = pd.read_csv('data/mmcovid.csv')\n",
    "mmcovid.head()"
   ]
  },
  {
   "cell_type": "markdown",
   "metadata": {},
   "source": [
    "**Question 5:**\n",
    "\n",
    "Suppose we want to create a GeoJSON of Covid-19 cases in Metro Manila, we can merge the mmcities and mmcovid to make a new geodataframe. Using all resources and <a href='https://geopandas.org/io.html#writing-spatial-data'>geopandas write</a>, \n",
    "1. merge mmcities and mmcovid to mmdf on NAME_2 and City\n",
    "2. Drop NAME_2, ENGTYPE_2, REGION in mmdf\n",
    "3. Rename PROVINCE to Province\n",
    "4. Save the resulting geodataframe into a GeoJSON: `data/mmdf.geojson`\n",
    "\n",
    "Use the cell below to show all procedures/codes."
   ]
  },
  {
   "cell_type": "code",
   "execution_count": null,
   "metadata": {},
   "outputs": [],
   "source": []
  },
  {
   "cell_type": "markdown",
   "metadata": {},
   "source": [
    "### IV. Making Maps"
   ]
  },
  {
   "cell_type": "markdown",
   "metadata": {},
   "source": [
    "Mapping in Geopandas is as easy using the `plot()` method on a GeoSeries or GeoDataFrame. We can load an example data."
   ]
  },
  {
   "cell_type": "code",
   "execution_count": null,
   "metadata": {},
   "outputs": [],
   "source": [
    "zipfile2 = \"zip://data/mmcovidshp.zip\"\n",
    "mmcovid_gdf = geopandas.read_file(zipfile2)\n",
    "mmcovid_gdf.plot()"
   ]
  },
  {
   "cell_type": "markdown",
   "metadata": {},
   "source": [
    "Resizing the image."
   ]
  },
  {
   "cell_type": "code",
   "execution_count": null,
   "metadata": {},
   "outputs": [],
   "source": [
    "mmcovid_gdf.plot(figsize=(6, 8))"
   ]
  },
  {
   "cell_type": "markdown",
   "metadata": {},
   "source": [
    "We can normalize the number of cases to create a Choropleth map to compare the severity of Covid-19 hit in Metro Manila."
   ]
  },
  {
   "cell_type": "code",
   "execution_count": null,
   "metadata": {},
   "outputs": [],
   "source": [
    "mmcovid_gdf['normalized'] = (mmcovid_gdf['Cases'] - \n",
    "                            mmcovid_gdf['Cases'].min()\n",
    "                           ) / (mmcovid_gdf['Cases'].max() -\n",
    "                               mmcovid_gdf['Cases'].min())\n",
    "\n",
    "mmcovid_gdf.plot(column='normalized', figsize=(6, 8))"
   ]
  },
  {
   "cell_type": "markdown",
   "metadata": {},
   "source": [
    "We can add a legend to our map."
   ]
  },
  {
   "cell_type": "code",
   "execution_count": null,
   "metadata": {},
   "outputs": [],
   "source": [
    "mmcovid_gdf.plot(column='normalized', figsize=(6, 8), legend=True)"
   ]
  },
  {
   "cell_type": "markdown",
   "metadata": {},
   "source": [
    "We can change the color ramp of the map."
   ]
  },
  {
   "cell_type": "code",
   "execution_count": null,
   "metadata": {},
   "outputs": [],
   "source": [
    "mmcovid_gdf.plot(column='normalized', figsize=(6, 8), \n",
    "                 legend=True, cmap='OrRd')"
   ]
  },
  {
   "cell_type": "markdown",
   "metadata": {},
   "source": [
    "We can map multiple layers. Suppose we want to show the centroids of each city on the map. We can copy the original geodataframe and set a different active geoseries. The layers follow an order. The first layer being plotted will be on lowest part. Next layer will be overlayed above the previous plotted layer."
   ]
  },
  {
   "cell_type": "code",
   "execution_count": null,
   "metadata": {},
   "outputs": [],
   "source": [
    "fig, ax = plt.subplots(figsize=(6, 8))\n",
    "ax.set_aspect('equal')\n",
    "mmcovid_centroids_gdf = mmcovid_gdf.copy()\n",
    "\n",
    "mmcovid_centroids_gdf['centroids'] = mmcovid_centroids_gdf.centroid\n",
    "mmcovid_centroids_gdf = mmcovid_centroids_gdf.set_geometry('centroids')\n",
    "\n",
    "\n",
    "mmcovid_gdf.plot(ax=ax, column='normalized', \n",
    "                 legend=True, cmap='OrRd')\n",
    "mmcovid_centroids_gdf.plot(ax=ax, color='black', marker='s')"
   ]
  },
  {
   "cell_type": "markdown",
   "metadata": {},
   "source": [
    "Below are some of the referral hospitals in Metro Manila. Run the cell below to show them. Use this for the next question/activity."
   ]
  },
  {
   "cell_type": "code",
   "execution_count": null,
   "metadata": {},
   "outputs": [],
   "source": [
    "geojson1 = \"data/mmreferralhospitals.geojson\"\n",
    "filename1 = open(geojson1)\n",
    "mmhospitals = geopandas.read_file(filename1)\n",
    "mmhospitals.head()"
   ]
  },
  {
   "cell_type": "markdown",
   "metadata": {},
   "source": [
    "**Question 6**\n",
    "\n",
    "Using all resources, mmcovid_gdf, mmhospitals and the empty cell below,\n",
    "\n",
    "1. Compute the normalized 'Recovered' Cases in mmcovid_gdf\n",
    "2. Make a double layered map\n",
    "- Use figsize=(6, 8) to resize image\n",
    "- Use the new computed column to plot the new mmcovid_gdf\n",
    "- Set cmap='Greens'\n",
    "- Include a legend\n",
    "- Plot mmhospitals overlayed above mmcovid_gdf\n",
    "- Use marker='+' for mmhospitals\n",
    "\n",
    "Show all procedures/codes."
   ]
  },
  {
   "cell_type": "code",
   "execution_count": null,
   "metadata": {
    "scrolled": false
   },
   "outputs": [],
   "source": []
  },
  {
   "cell_type": "markdown",
   "metadata": {},
   "source": [
    "### V. Geometric Manipulations"
   ]
  },
  {
   "cell_type": "markdown",
   "metadata": {},
   "source": [
    "Geopandas makes use of all the tools for geometric manipulations using the <a href='https://shapely.readthedocs.io/en/latest/manual.html'>shapely library</a>. Let us load Metro Manila road vector."
   ]
  },
  {
   "cell_type": "code",
   "execution_count": null,
   "metadata": {},
   "outputs": [],
   "source": [
    "zipfile3 = \"zip://data/roads_MM.zip\"\n",
    "mmroads = geopandas.read_file(zipfile3)\n",
    "mmroads.plot(figsize=(6, 8))"
   ]
  },
  {
   "cell_type": "markdown",
   "metadata": {},
   "source": [
    "Constructive methods are applied to objects e.g. polygon to manipulate the representation of the object. We can use buffer to lines to enlarge the coverage area of our line objects."
   ]
  },
  {
   "cell_type": "code",
   "execution_count": null,
   "metadata": {},
   "outputs": [],
   "source": [
    "fig, ax = plt.subplots(1, 2, figsize=(6, 8))\n",
    "plt.subplots_adjust(right=1.5)\n",
    "ax[0].set_title(\"original\")\n",
    "ax[1].set_title(\"buffered\")\n",
    "mmroads[0:10].plot(ax=ax[0])\n",
    "mmroads[0:10].buffer(0.001).plot(ax=ax[1])"
   ]
  },
  {
   "cell_type": "markdown",
   "metadata": {},
   "source": [
    "Meanwhile, Affine transformation geometrically manipulate the orientation of our objects. Below, we can rotate our lines using an angle as argument. In the example below we rotate the lines counter clockwise by 45 degrees. We can use -45 to make it clockwise."
   ]
  },
  {
   "cell_type": "code",
   "execution_count": null,
   "metadata": {},
   "outputs": [],
   "source": [
    "fig, ax = plt.subplots(1, 3, figsize=(6, 8))\n",
    "plt.subplots_adjust(right=1.5)\n",
    "ax[0].set_title(\"original\")\n",
    "ax[1].set_title(\"45 deg\")\n",
    "ax[2].set_title(\"-45 deg\")\n",
    "mmroads[0:10].plot(ax=ax[0])\n",
    "mmroads[0:10].rotate(45).plot(ax=ax[1])\n",
    "mmroads[0:10].rotate(-45).plot(ax=ax[2])"
   ]
  },
  {
   "cell_type": "markdown",
   "metadata": {},
   "source": [
    "**Question 7**\n",
    "\n",
    "Use <a href='https://geopandas.org/geometric_manipulations.html#constructive-methods'>geometric manipulation</a> to only show the boundary of mmcovid_gdf. Use the empty cell below. Use figsize=(6, 8)."
   ]
  },
  {
   "cell_type": "code",
   "execution_count": null,
   "metadata": {},
   "outputs": [],
   "source": []
  },
  {
   "cell_type": "markdown",
   "metadata": {},
   "source": [
    "### VI. Set Operations with Overlay"
   ]
  },
  {
   "cell_type": "markdown",
   "metadata": {},
   "source": [
    "When working with multiple spatial datasets – especially multiple polygon or line datasets – users often wish to create new shapes based on places where those datasets overlap (or don’t overlap). These manipulations are often referred using the language of sets – intersections, unions, and differences. \n",
    "\n",
    "![image info](./data/overlay_operations.png)\n",
    "\n",
    "<a href='https://geopandas.org/set_operations.html#set-operations-with-overlay'>source</a>"
   ]
  },
  {
   "cell_type": "markdown",
   "metadata": {},
   "source": [
    "We can set mmcovid_gdf.boundary as the active geometry and mmroads to show examples."
   ]
  },
  {
   "cell_type": "code",
   "execution_count": null,
   "metadata": {},
   "outputs": [],
   "source": [
    "mmboundary = mmcovid_gdf.copy()\n",
    "mmboundary['boundary'] = mmboundary.boundary\n",
    "mmboundary = mmboundary.set_geometry('boundary')\n",
    "\n",
    "fig, ax = plt.subplots(1, 2, figsize=(6, 8))\n",
    "plt.subplots_adjust(right=1.5)\n",
    "ax[0].set_title(\"mmcovid_gdf.boundary\")\n",
    "ax[1].set_title(\"mmroads\")\n",
    "mmboundary.plot(ax=ax[0])\n",
    "mmroads.plot(ax=ax[1], color='green')"
   ]
  },
  {
   "cell_type": "markdown",
   "metadata": {},
   "source": [
    "We can illustrate the different overlay modes using the above example. The overlay function will determine the set of all individual geometries from overlaying the two input GeoDataFrames. This result covers the area covered by the two input GeoDataFrames, and also preserves all unique regions defined by the combined boundaries of the two GeoDataFrames.\n",
    "<a href='https://geopandas.org/set_operations.html#the-different-overlay-operations'>source</a>\n",
    "\n",
    "By default, overlay only works with two polygons/ multi-polygons. We can accept other vector by stating keep_geom_type argument as False.\n",
    "\n",
    "Note that succeeding cells will load longer because of the number of data from mmroads."
   ]
  },
  {
   "cell_type": "code",
   "execution_count": null,
   "metadata": {},
   "outputs": [],
   "source": [
    "from geopandas.tools import overlay\n",
    "\n",
    "overlay_intersection = overlay(mmcovid_gdf, mmroads,\n",
    "                                 how='intersection', \n",
    "                                 keep_geom_type=False)\n",
    "\n",
    "overlay_intersection.plot(figsize=(6, 8))"
   ]
  },
  {
   "cell_type": "markdown",
   "metadata": {},
   "source": [
    "Take note that this is not a clip function. Both mmcovid_gdf and mmroads are preserved to the resulting geodataframe overlay_intersection with respect to both object's intersection."
   ]
  },
  {
   "cell_type": "code",
   "execution_count": null,
   "metadata": {},
   "outputs": [],
   "source": [
    "overlay_union = overlay(mmcovid_gdf, mmroads,\n",
    "                                 how='union',\n",
    "                                 keep_geom_type=False)\n",
    "\n",
    "overlay_union.plot(figsize=(6, 8))"
   ]
  },
  {
   "cell_type": "markdown",
   "metadata": {},
   "source": [
    "Using how='difference', order of argument is important. The left argument is the Minuend and the right argument is the Subtrahend. The order thus affect the difference."
   ]
  },
  {
   "cell_type": "code",
   "execution_count": null,
   "metadata": {},
   "outputs": [],
   "source": [
    "fig, ax = plt.subplots(1, 2, figsize=(6, 8))\n",
    "plt.subplots_adjust(right=1.5)\n",
    "ax[0].set_title(\"mmcovid_gdf - mmroads\")\n",
    "ax[1].set_title(\"mmroads - mmcovid_gdf\")\n",
    "\n",
    "overlay_difference_1 = overlay(mmcovid_gdf, mmroads,\n",
    "                                 how='difference',\n",
    "                                 keep_geom_type=False)\n",
    "overlay_difference_2 = overlay(mmroads, mmcovid_gdf,\n",
    "                                 how='difference',\n",
    "                                 keep_geom_type=False)\n",
    "\n",
    "overlay_difference_1.plot(ax=ax[0])\n",
    "overlay_difference_2.plot(ax=ax[1])"
   ]
  },
  {
   "cell_type": "markdown",
   "metadata": {},
   "source": [
    "**Question 8**\n",
    "\n",
    "Use <a href='https://geopandas.org/set_operations.html#the-different-overlay-operations'>overlay operations</a> to show the symmetric difference of mmcovid_gdf and mmroads."
   ]
  },
  {
   "cell_type": "code",
   "execution_count": null,
   "metadata": {},
   "outputs": [],
   "source": []
  },
  {
   "cell_type": "markdown",
   "metadata": {},
   "source": [
    "### VII. Aggregation with dissolve"
   ]
  },
  {
   "cell_type": "markdown",
   "metadata": {},
   "source": [
    "We use pandas' `groupby` function to aggredate data to show summary statistics. But for spatial data, we sometimes need to aggregate geometric features to group them by larger extent.\n",
    "\n",
    "We load world and group them by continent to show this example."
   ]
  },
  {
   "cell_type": "code",
   "execution_count": null,
   "metadata": {},
   "outputs": [],
   "source": [
    "world = geopandas.read_file(geopandas.datasets.get_path('naturalearth_lowres'))\n",
    "continents = world.dissolve(by='continent')\n",
    "\n",
    "fig, ax = plt.subplots(2, 1, figsize=(8, 12))\n",
    "ax[0].set_title(\"countrie\")\n",
    "ax[1].set_title(\"continents\")\n",
    "world.plot(ax=ax[0], color='yellow', edgecolor='k')\n",
    "continents.plot(ax=ax[1], color='lime', edgecolor='k')"
   ]
  },
  {
   "cell_type": "markdown",
   "metadata": {},
   "source": [
    "We can use `aggfunc='sum'` argument in the `dissolve` function to aggragate numerical data as part of the group by process. Below is an example.\n",
    "\n",
    "Some other aggfunc inputs: <a href='https://geopandas.org/aggregation_with_dissolve.html#dissolve-arguments'>here</a>."
   ]
  },
  {
   "cell_type": "code",
   "execution_count": null,
   "metadata": {},
   "outputs": [],
   "source": [
    "world = geopandas.read_file(geopandas.datasets.get_path('naturalearth_lowres'))\n",
    "continents = world.dissolve(by='continent', aggfunc='sum')\n",
    "\n",
    "fig, ax = plt.subplots(2, 1, figsize=(8, 12))\n",
    "ax[0].set_title(\"countries\")\n",
    "ax[1].set_title(\"continents\")\n",
    "world.plot(ax=ax[0], column='pop_est', edgecolor='k')\n",
    "continents.plot(ax=ax[1], column='pop_est', edgecolor='k')"
   ]
  },
  {
   "cell_type": "markdown",
   "metadata": {},
   "source": [
    "**Question 9**\n",
    "\n",
    "Dissolve mmcovid_gdf by `Province`. Show the result below."
   ]
  },
  {
   "cell_type": "code",
   "execution_count": null,
   "metadata": {},
   "outputs": [],
   "source": []
  },
  {
   "cell_type": "markdown",
   "metadata": {},
   "source": [
    "### VIII. Summary\n",
    "\n",
    "**Data Structures**\n",
    "1. A Geoseries is a vector of shape objects. Classes can vary in the vector.\n",
    "2. A Geodataframe is a pandas' dataframe with an active Geoseries.\n",
    "3. Attributes and methods can be applied to a Geoseries and consequently to a Geodataframe.\n",
    "\n",
    "**Reading and Writting Files**\n",
    "1. You can read directly through a ZIP file. You can further clean the geodataframe by ignoring fields upon reading.\n",
    "2. There are many options such as Shape and GeoJSON for writing a geodataframe.\n",
    "3. A written/saved geodataframe into Shape or any format can be loaded in GIS software.\n",
    "\n",
    "**Making Maps**\n",
    "1. Using plot() method, we can display our GeoSeries or GeoDataFrame.\n",
    "2. There are certain ways to manipulate our map such as resizing, adding legend and choosing different color scheme.\n",
    "3. We can create multiple layers on the map provided they have a GeoSeries, which means only vectors are allowed (no raster).\n",
    "\n",
    "**Geometric Manipulation**\n",
    "1. There are at least two types of geometric manipulation, constructive methods and affine transformation. They are both use to alter the visual representation of the vector objects.\n",
    "\n",
    "**Set Operations with Overlay**\n",
    "1. There at least four overlay operations -- union, intersection, symmetric difference and difference.\n",
    "2. By default we can only overlay polygons. We can set the argument keep_geom_type=False to accept other vector shape.\n",
    "\n",
    "**Aggregation with dissolve**\n",
    "1. We use dissolve to aggregate GeoDataFrame geometric features to a greater extent.\n",
    "2. We can use argfunc argument to aggregate numerical data with our geometric features."
   ]
  },
  {
   "cell_type": "markdown",
   "metadata": {},
   "source": [
    "**Congratulations for finishing the Geopandas Tutorial!**\n",
    "\n",
    "![image info](./data/yoda.jpg)"
   ]
  }
 ],
 "metadata": {
  "kernelspec": {
   "display_name": "Python 3",
   "language": "python",
   "name": "python3"
  },
  "language_info": {
   "codemirror_mode": {
    "name": "ipython",
    "version": 3
   },
   "file_extension": ".py",
   "mimetype": "text/x-python",
   "name": "python",
   "nbconvert_exporter": "python",
   "pygments_lexer": "ipython3",
   "version": "3.7.8"
  }
 },
 "nbformat": 4,
 "nbformat_minor": 2
}
